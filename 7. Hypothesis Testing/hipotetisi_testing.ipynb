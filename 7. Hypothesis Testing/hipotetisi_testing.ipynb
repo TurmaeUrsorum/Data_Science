{
 "cells": [
  {
   "cell_type": "code",
   "execution_count": 30,
   "id": "71e78ea7",
   "metadata": {},
   "outputs": [],
   "source": [
    "import numpy as np\n",
    "import pandas as pd\n",
    "import matplotlib.pyplot as plt\n",
    "import seaborn as sns"
   ]
  },
  {
   "cell_type": "markdown",
   "id": "250efe51",
   "metadata": {},
   "source": [
    "# One sample T-test\n",
    "\n",
    "Digunakan untuk membandingkan hasil dari eksperimen yang tidak memiliki benchmark sebelumnya"
   ]
  },
  {
   "cell_type": "markdown",
   "id": "7d85d0cf",
   "metadata": {},
   "source": [
    "# Contoh Pengujian Hipotesis Satu Populasi"
   ]
  },
  {
   "cell_type": "code",
   "execution_count": 33,
   "id": "f5852ac9",
   "metadata": {},
   "outputs": [
    {
     "data": {
      "text/html": [
       "<div>\n",
       "<style scoped>\n",
       "    .dataframe tbody tr th:only-of-type {\n",
       "        vertical-align: middle;\n",
       "    }\n",
       "\n",
       "    .dataframe tbody tr th {\n",
       "        vertical-align: top;\n",
       "    }\n",
       "\n",
       "    .dataframe thead th {\n",
       "        text-align: right;\n",
       "    }\n",
       "</style>\n",
       "<table border=\"1\" class=\"dataframe\">\n",
       "  <thead>\n",
       "    <tr style=\"text-align: right;\">\n",
       "      <th></th>\n",
       "      <th>USER_ID</th>\n",
       "      <th>VARIANT_NAME</th>\n",
       "      <th>REVENUE</th>\n",
       "    </tr>\n",
       "  </thead>\n",
       "  <tbody>\n",
       "    <tr>\n",
       "      <th>0</th>\n",
       "      <td>737</td>\n",
       "      <td>variant</td>\n",
       "      <td>0.0</td>\n",
       "    </tr>\n",
       "    <tr>\n",
       "      <th>1</th>\n",
       "      <td>2423</td>\n",
       "      <td>control</td>\n",
       "      <td>0.0</td>\n",
       "    </tr>\n",
       "    <tr>\n",
       "      <th>2</th>\n",
       "      <td>9411</td>\n",
       "      <td>control</td>\n",
       "      <td>0.0</td>\n",
       "    </tr>\n",
       "    <tr>\n",
       "      <th>3</th>\n",
       "      <td>7311</td>\n",
       "      <td>control</td>\n",
       "      <td>0.0</td>\n",
       "    </tr>\n",
       "    <tr>\n",
       "      <th>4</th>\n",
       "      <td>6174</td>\n",
       "      <td>variant</td>\n",
       "      <td>0.0</td>\n",
       "    </tr>\n",
       "  </tbody>\n",
       "</table>\n",
       "</div>"
      ],
      "text/plain": [
       "   USER_ID VARIANT_NAME  REVENUE\n",
       "0      737      variant      0.0\n",
       "1     2423      control      0.0\n",
       "2     9411      control      0.0\n",
       "3     7311      control      0.0\n",
       "4     6174      variant      0.0"
      ]
     },
     "execution_count": 33,
     "metadata": {},
     "output_type": "execute_result"
    }
   ],
   "source": [
    "# https://docs.google.com/spreadsheets/d/1x3abnbEGqMqYlPoDqss5Puxkx0B9owImUENxGGtXdm4/edit?gid=235186554#gid=235186554\n",
    "google_sheets_link = 'https://docs.google.com/spreadsheets/d/1x3abnbEGqMqYlPoDqss5Puxkx0B9owImUENxGGtXdm4/export?format=csv'\n",
    "df = pd.read_csv(google_sheets_link, sep=',')\n",
    "\n",
    "df.head()"
   ]
  },
  {
   "cell_type": "markdown",
   "id": "6a01aec5",
   "metadata": {},
   "source": [
    "## Menghitung secara manual"
   ]
  },
  {
   "cell_type": "code",
   "execution_count": 4,
   "id": "fc428c32",
   "metadata": {},
   "outputs": [],
   "source": [
    "nilai = [74, 49, 68, 86, 80, 71, 77, 81, 72, 77]"
   ]
  },
  {
   "cell_type": "code",
   "execution_count": 5,
   "id": "30f8c955",
   "metadata": {},
   "outputs": [
    {
     "data": {
      "text/plain": [
       "73.5"
      ]
     },
     "execution_count": 5,
     "metadata": {},
     "output_type": "execute_result"
    }
   ],
   "source": [
    "np.mean(nilai)"
   ]
  },
  {
   "cell_type": "code",
   "execution_count": 6,
   "id": "3d07d96a",
   "metadata": {},
   "outputs": [
    {
     "name": "stdout",
     "output_type": "stream",
     "text": [
      "-2.0346749160869684\n"
     ]
    }
   ],
   "source": [
    "x_bar = np.mean(nilai)\n",
    "mu = 80\n",
    "s = np.std(nilai, ddof = 1)\n",
    "n = len(nilai)\n",
    "\n",
    "t_stat = (x_bar - mu) / (s / np.sqrt(n))\n",
    "\n",
    "print(t_stat)"
   ]
  },
  {
   "cell_type": "code",
   "execution_count": 7,
   "id": "62db2e5d",
   "metadata": {},
   "outputs": [],
   "source": [
    "from scipy.stats import ttest_1samp\n",
    "\n",
    "t_stat, p_value = ttest_1samp(nilai, 80)"
   ]
  },
  {
   "cell_type": "code",
   "execution_count": 8,
   "id": "f2a9dbd4",
   "metadata": {},
   "outputs": [
    {
     "name": "stdout",
     "output_type": "stream",
     "text": [
      "H0 diserahkan\n"
     ]
    }
   ],
   "source": [
    "if p_value < 0.05:\n",
    "    print(\"H0 ditolak\")\n",
    "else:\n",
    "    print(\"H0 diserahkan\")"
   ]
  },
  {
   "cell_type": "markdown",
   "id": "99c1ecb7",
   "metadata": {},
   "source": [
    "p_value -> tergantung dari kesepakatam peneliti -> 1%, 5%, 10%\n",
    "-> peluang kesalahan ketika kita menolak H0\n",
    "-> 100 test -> hanya ada x% tes yang tidak memenuhi H0\n",
    "-> 5% -> ada 5 test yang nilai rata-rata nya boleh di bawah sm dgn 80"
   ]
  },
  {
   "cell_type": "markdown",
   "id": "acc99d07",
   "metadata": {},
   "source": [
    "# Contoh Implementasi"
   ]
  },
  {
   "cell_type": "code",
   "execution_count": 11,
   "id": "aa2e7b4c",
   "metadata": {},
   "outputs": [
    {
     "data": {
      "text/html": [
       "<div>\n",
       "<style scoped>\n",
       "    .dataframe tbody tr th:only-of-type {\n",
       "        vertical-align: middle;\n",
       "    }\n",
       "\n",
       "    .dataframe tbody tr th {\n",
       "        vertical-align: top;\n",
       "    }\n",
       "\n",
       "    .dataframe thead th {\n",
       "        text-align: right;\n",
       "    }\n",
       "</style>\n",
       "<table border=\"1\" class=\"dataframe\">\n",
       "  <thead>\n",
       "    <tr style=\"text-align: right;\">\n",
       "      <th></th>\n",
       "      <th>USER_ID</th>\n",
       "      <th>VARIANT_NAME</th>\n",
       "      <th>REVENUE</th>\n",
       "    </tr>\n",
       "  </thead>\n",
       "  <tbody>\n",
       "    <tr>\n",
       "      <th>0</th>\n",
       "      <td>737</td>\n",
       "      <td>variant</td>\n",
       "      <td>0.0</td>\n",
       "    </tr>\n",
       "    <tr>\n",
       "      <th>1</th>\n",
       "      <td>2423</td>\n",
       "      <td>control</td>\n",
       "      <td>0.0</td>\n",
       "    </tr>\n",
       "    <tr>\n",
       "      <th>2</th>\n",
       "      <td>9411</td>\n",
       "      <td>control</td>\n",
       "      <td>0.0</td>\n",
       "    </tr>\n",
       "    <tr>\n",
       "      <th>3</th>\n",
       "      <td>7311</td>\n",
       "      <td>control</td>\n",
       "      <td>0.0</td>\n",
       "    </tr>\n",
       "    <tr>\n",
       "      <th>4</th>\n",
       "      <td>6174</td>\n",
       "      <td>variant</td>\n",
       "      <td>0.0</td>\n",
       "    </tr>\n",
       "  </tbody>\n",
       "</table>\n",
       "</div>"
      ],
      "text/plain": [
       "   USER_ID VARIANT_NAME  REVENUE\n",
       "0      737      variant      0.0\n",
       "1     2423      control      0.0\n",
       "2     9411      control      0.0\n",
       "3     7311      control      0.0\n",
       "4     6174      variant      0.0"
      ]
     },
     "execution_count": 11,
     "metadata": {},
     "output_type": "execute_result"
    }
   ],
   "source": [
    "df.head()"
   ]
  },
  {
   "cell_type": "code",
   "execution_count": 10,
   "id": "35141ab9",
   "metadata": {},
   "outputs": [
    {
     "data": {
      "text/plain": [
       "0       0.00\n",
       "4       0.00\n",
       "5       0.00\n",
       "8       0.00\n",
       "13      2.15\n",
       "        ... \n",
       "9991    0.00\n",
       "9992    0.00\n",
       "9993    0.00\n",
       "9996    0.00\n",
       "9997    0.00\n",
       "Name: REVENUE, Length: 5016, dtype: float64"
      ]
     },
     "execution_count": 10,
     "metadata": {},
     "output_type": "execute_result"
    }
   ],
   "source": [
    "variant_revenue = df.loc[df[\"VARIANT_NAME\"] == \"variant\", \"REVENUE\"]\n",
    "variant_revenue"
   ]
  },
  {
   "cell_type": "code",
   "execution_count": 12,
   "id": "302de652",
   "metadata": {},
   "outputs": [
    {
     "data": {
      "text/plain": [
       "count    5016.000000\n",
       "mean        0.070070\n",
       "std         1.314802\n",
       "min         0.000000\n",
       "25%         0.000000\n",
       "50%         0.000000\n",
       "75%         0.000000\n",
       "max        58.630000\n",
       "Name: REVENUE, dtype: float64"
      ]
     },
     "execution_count": 12,
     "metadata": {},
     "output_type": "execute_result"
    }
   ],
   "source": [
    "variant_revenue.describe()"
   ]
  },
  {
   "cell_type": "code",
   "execution_count": 15,
   "id": "f869e7f8",
   "metadata": {},
   "outputs": [
    {
     "data": {
      "image/png": "[encoded data removed]",
      "text/plain": [
       "<Figure size 640x480 with 1 Axes>"
      ]
     },
     "metadata": {},
     "output_type": "display_data"
    }
   ],
   "source": [
    "sns.histplot(data=variant_revenue, bins=100)\n",
    "plt.show()"
   ]
  },
  {
   "cell_type": "code",
   "execution_count": 17,
   "id": "467bdf0f",
   "metadata": {},
   "outputs": [
    {
     "name": "stdout",
     "output_type": "stream",
     "text": [
      "t_stat : 3.774410929668571\n",
      "p_value : 0.00016223887213175306\n"
     ]
    }
   ],
   "source": [
    "t_stat, p_value = ttest_1samp(variant_revenue, 0)\n",
    "print(\"t_stat :\", t_stat)\n",
    "print(\"p_value :\", p_value)"
   ]
  },
  {
   "cell_type": "code",
   "execution_count": 18,
   "id": "bf9f834f",
   "metadata": {},
   "outputs": [
    {
     "name": "stdout",
     "output_type": "stream",
     "text": [
      "H0 ditolak\n"
     ]
    }
   ],
   "source": [
    "if p_value < 0.05:\n",
    "    print(\"H0 ditolak\")\n",
    "else:\n",
    "    print(\"H0 diserahkan\")"
   ]
  },
  {
   "cell_type": "markdown",
   "id": "c5e91197",
   "metadata": {},
   "source": [
    "## Contoh Pengujian Hipotesis Dua Populasi"
   ]
  },
  {
   "cell_type": "code",
   "execution_count": 19,
   "id": "ae7ac703",
   "metadata": {},
   "outputs": [
    {
     "data": {
      "text/plain": [
       "array([76, 73, 69, 69, 83, 69, 67, 38, 90, 61])"
      ]
     },
     "execution_count": 19,
     "metadata": {},
     "output_type": "execute_result"
    }
   ],
   "source": [
    "from scipy.stats import norm\n",
    "\n",
    "norm.rvs(loc = 70, scale = 10, size = 10).round().astype(\"int\")"
   ]
  },
  {
   "cell_type": "code",
   "execution_count": 20,
   "id": "55bbe6ca",
   "metadata": {},
   "outputs": [],
   "source": [
    "kelas_1 = [74, 49, 68, 86, 80, 71, 77, 81, 72, 77]\n",
    "kelas_2 = [78, 57, 65, 82, 73, 76, 54, 58]"
   ]
  },
  {
   "cell_type": "code",
   "execution_count": 21,
   "id": "7548e79f",
   "metadata": {},
   "outputs": [],
   "source": [
    "x_bar1 = np.mean(kelas_1)\n",
    "s1 = np.std(kelas_1, ddof = 1)\n",
    "n1 = len(kelas_1)\n",
    "\n",
    "x_bar2 = np.mean(kelas_2)\n",
    "s2 = np.std(kelas_2, ddof = 1)\n",
    "n2 = len(kelas_2)"
   ]
  },
  {
   "cell_type": "code",
   "execution_count": 22,
   "id": "8d7b0fa4",
   "metadata": {},
   "outputs": [
    {
     "name": "stdout",
     "output_type": "stream",
     "text": [
      "Standard deviasi kelas 1: 10.102254973794492\n",
      "Standard deviasi kelas 2: 10.76286605483343\n"
     ]
    }
   ],
   "source": [
    "print(f\"Standard deviasi kelas 1: {s1}\")\n",
    "print(f\"Standard deviasi kelas 2: {s2}\")"
   ]
  },
  {
   "cell_type": "code",
   "execution_count": 23,
   "id": "1c094f15",
   "metadata": {},
   "outputs": [],
   "source": [
    "df = n1 + n2 - 2\n",
    "sp = np.sqrt(((n1 - 1) * np.power(s1, 2) + (n2 - 1) * np.power(s2, 2)) / df)"
   ]
  },
  {
   "cell_type": "code",
   "execution_count": 24,
   "id": "0394f354",
   "metadata": {},
   "outputs": [
    {
     "name": "stdout",
     "output_type": "stream",
     "text": [
      "1.140634940065406\n"
     ]
    }
   ],
   "source": [
    "t_stat = (x_bar1 - x_bar2) / (sp * np.sqrt(1/n1 + 1/n2))\n",
    "print(t_stat)"
   ]
  },
  {
   "cell_type": "code",
   "execution_count": 25,
   "id": "070f25e0",
   "metadata": {},
   "outputs": [],
   "source": [
    "from scipy.stats import ttest_ind\n",
    "\n",
    "t_stat, p_value = ttest_ind(kelas_1, kelas_2, equal_var=True)"
   ]
  },
  {
   "cell_type": "code",
   "execution_count": 26,
   "id": "246e4b1a",
   "metadata": {},
   "outputs": [
    {
     "name": "stdout",
     "output_type": "stream",
     "text": [
      "Nilai kelas 1 dan kelas 2 sama\n"
     ]
    }
   ],
   "source": [
    "if p_value < 0.05:\n",
    "  print(\"Nilai kelas 1 dan kelas 2 berbeda\")\n",
    "else:\n",
    "  print(\"Nilai kelas 1 dan kelas 2 sama\")"
   ]
  },
  {
   "cell_type": "code",
   "execution_count": 27,
   "id": "d0a6b2af",
   "metadata": {},
   "outputs": [
    {
     "data": {
      "text/plain": [
       "1.140634940065406"
      ]
     },
     "execution_count": 27,
     "metadata": {},
     "output_type": "execute_result"
    }
   ],
   "source": [
    "t_stat"
   ]
  },
  {
   "cell_type": "code",
   "execution_count": 28,
   "id": "0f7e2b76",
   "metadata": {},
   "outputs": [
    {
     "data": {
      "text/plain": [
       "0.2708083866673808"
      ]
     },
     "execution_count": 28,
     "metadata": {},
     "output_type": "execute_result"
    }
   ],
   "source": [
    "p_value"
   ]
  },
  {
   "cell_type": "code",
   "execution_count": 34,
   "id": "6a9dd6f0",
   "metadata": {},
   "outputs": [],
   "source": [
    "variant_revenue = df.loc[df[\"VARIANT_NAME\"] == \"variant\", \"REVENUE\"]\n",
    "\n",
    "control_revenue = df.loc[df[\"VARIANT_NAME\"] == \"control\", \"REVENUE\"]"
   ]
  },
  {
   "cell_type": "code",
   "execution_count": 35,
   "id": "149e2e78",
   "metadata": {},
   "outputs": [
    {
     "data": {
      "text/plain": [
       "count    5016.000000\n",
       "mean        0.070070\n",
       "std         1.314802\n",
       "min         0.000000\n",
       "25%         0.000000\n",
       "50%         0.000000\n",
       "75%         0.000000\n",
       "max        58.630000\n",
       "Name: REVENUE, dtype: float64"
      ]
     },
     "execution_count": 35,
     "metadata": {},
     "output_type": "execute_result"
    }
   ],
   "source": [
    "variant_revenue.describe()"
   ]
  },
  {
   "cell_type": "code",
   "execution_count": 36,
   "id": "59824f4f",
   "metadata": {},
   "outputs": [
    {
     "data": {
      "text/plain": [
       "count    4984.000000\n",
       "mean        0.129013\n",
       "std         3.007524\n",
       "min         0.000000\n",
       "25%         0.000000\n",
       "50%         0.000000\n",
       "75%         0.000000\n",
       "max       196.010000\n",
       "Name: REVENUE, dtype: float64"
      ]
     },
     "execution_count": 36,
     "metadata": {},
     "output_type": "execute_result"
    }
   ],
   "source": [
    "control_revenue.describe()"
   ]
  },
  {
   "cell_type": "code",
   "execution_count": 37,
   "id": "b8505002",
   "metadata": {},
   "outputs": [
    {
     "data": {
      "text/plain": [
       "<Axes: xlabel='VARIANT_NAME', ylabel='REVENUE'>"
      ]
     },
     "execution_count": 37,
     "metadata": {},
     "output_type": "execute_result"
    },
    {
     "data": {
      "image/png": "[encoded data removed]",
      "text/plain": [
       "<Figure size 640x480 with 1 Axes>"
      ]
     },
     "metadata": {},
     "output_type": "display_data"
    }
   ],
   "source": [
    "sns.barplot(data=df, x=\"VARIANT_NAME\", y=\"REVENUE\")"
   ]
  },
  {
   "cell_type": "code",
   "execution_count": 38,
   "id": "342181c8",
   "metadata": {},
   "outputs": [],
   "source": [
    "t_stat, p_value = ttest_ind(variant_revenue, control_revenue, equal_var=False)"
   ]
  },
  {
   "cell_type": "code",
   "execution_count": 39,
   "id": "94df9bf4",
   "metadata": {},
   "outputs": [
    {
     "data": {
      "text/plain": [
       "-1.268403803110966"
      ]
     },
     "execution_count": 39,
     "metadata": {},
     "output_type": "execute_result"
    }
   ],
   "source": [
    "t_stat"
   ]
  },
  {
   "cell_type": "code",
   "execution_count": 40,
   "id": "611f9b08",
   "metadata": {},
   "outputs": [
    {
     "data": {
      "text/plain": [
       "0.20469713432410777"
      ]
     },
     "execution_count": 40,
     "metadata": {},
     "output_type": "execute_result"
    }
   ],
   "source": [
    "p_value"
   ]
  },
  {
   "cell_type": "code",
   "execution_count": 41,
   "id": "83955039",
   "metadata": {},
   "outputs": [
    {
     "data": {
      "text/plain": [
       "VARIANT_NAME\n",
       "control    80\n",
       "variant    72\n",
       "Name: REVENUE, dtype: int64"
      ]
     },
     "execution_count": 41,
     "metadata": {},
     "output_type": "execute_result"
    }
   ],
   "source": [
    "df.groupby(\"VARIANT_NAME\")[\"REVENUE\"].apply(lambda x: sum(x > 0))"
   ]
  },
  {
   "cell_type": "markdown",
   "id": "fd72c59b",
   "metadata": {},
   "source": [
    "## Contoh Pengujian Hipotesis Dua Populasi Berpasangan"
   ]
  },
  {
   "cell_type": "code",
   "execution_count": 42,
   "id": "6ac78b5d",
   "metadata": {},
   "outputs": [],
   "source": [
    "sebelum = [59, 71, 64, 75, 75, 61, 52, 66, 71, 69]\n",
    "sesudah = [98, 91, 86, 72, 77, 54, 69, 89, 66, 87]"
   ]
  },
  {
   "cell_type": "code",
   "execution_count": 43,
   "id": "b3d3a417",
   "metadata": {},
   "outputs": [],
   "source": [
    "beda = np.array(sesudah) - np.array(sebelum)\n",
    "x_beda = np.mean(beda)\n",
    "sd = np.std(beda, ddof = 1)\n",
    "n = len(beda)\n",
    "mu = 0"
   ]
  },
  {
   "cell_type": "code",
   "execution_count": 44,
   "id": "14344b65",
   "metadata": {},
   "outputs": [],
   "source": [
    "t_stat = (x_beda - mu) / (sd / np.sqrt(n))"
   ]
  },
  {
   "cell_type": "code",
   "execution_count": 45,
   "id": "d470dccd",
   "metadata": {},
   "outputs": [
    {
     "data": {
      "text/plain": [
       "2.6423876827871844"
      ]
     },
     "execution_count": 45,
     "metadata": {},
     "output_type": "execute_result"
    }
   ],
   "source": [
    "t_stat"
   ]
  },
  {
   "cell_type": "code",
   "execution_count": 46,
   "id": "61591e95",
   "metadata": {},
   "outputs": [],
   "source": [
    "from scipy.stats import ttest_rel"
   ]
  },
  {
   "cell_type": "code",
   "execution_count": 47,
   "id": "4b9d6ac0",
   "metadata": {},
   "outputs": [],
   "source": [
    "t_stat, p_value = ttest_rel(sesudah, sebelum)"
   ]
  },
  {
   "cell_type": "code",
   "execution_count": 48,
   "id": "4bc60cd4",
   "metadata": {},
   "outputs": [
    {
     "name": "stdout",
     "output_type": "stream",
     "text": [
      "Nilai sesudah berbeda daripada nilai sebelum\n"
     ]
    }
   ],
   "source": [
    "if p_value < 0.05:\n",
    "  print(\"Nilai sesudah berbeda daripada nilai sebelum\")\n",
    "else:\n",
    "  print(\"Nilai sesudah sama dengan nilai sebelum\")"
   ]
  },
  {
   "cell_type": "code",
   "execution_count": 49,
   "id": "2a3aa2c7",
   "metadata": {},
   "outputs": [
    {
     "data": {
      "text/plain": [
       "2.6423876827871844"
      ]
     },
     "execution_count": 49,
     "metadata": {},
     "output_type": "execute_result"
    }
   ],
   "source": [
    "t_stat"
   ]
  },
  {
   "cell_type": "markdown",
   "id": "479bed2c",
   "metadata": {},
   "source": [
    "## Uji Beda Proporsi"
   ]
  },
  {
   "cell_type": "code",
   "execution_count": 50,
   "id": "01c827a3",
   "metadata": {},
   "outputs": [],
   "source": [
    "perempuan_selamat = 233\n",
    "total_perempuan = 314\n",
    "laki_selamat = 109\n",
    "total_laki = 577"
   ]
  },
  {
   "cell_type": "code",
   "execution_count": 51,
   "id": "bfd028c5",
   "metadata": {},
   "outputs": [],
   "source": [
    "proporsi_perempuan = perempuan_selamat / total_perempuan\n",
    "proporsi_laki = laki_selamat / total_laki\n",
    "\n",
    "prop_gabungan = (perempuan_selamat + laki_selamat) / (total_perempuan + total_laki)"
   ]
  },
  {
   "cell_type": "code",
   "execution_count": 52,
   "id": "0c0f8dc2",
   "metadata": {},
   "outputs": [
    {
     "name": "stdout",
     "output_type": "stream",
     "text": [
      "16.218833930670097\n"
     ]
    }
   ],
   "source": [
    "t_stat = (proporsi_perempuan - proporsi_laki) / np.sqrt(prop_gabungan * (1 - prop_gabungan) * (1/ total_perempuan + 1/ total_laki))\n",
    "print(t_stat)"
   ]
  },
  {
   "cell_type": "code",
   "execution_count": 53,
   "id": "e45e3ade",
   "metadata": {},
   "outputs": [],
   "source": [
    "from statsmodels.stats.proportion import proportions_ztest"
   ]
  },
  {
   "cell_type": "code",
   "execution_count": 54,
   "id": "b0cd54fc",
   "metadata": {},
   "outputs": [
    {
     "data": {
      "text/plain": [
       "(16.218833930670097, 3.7117477701134797e-59)"
      ]
     },
     "execution_count": 54,
     "metadata": {},
     "output_type": "execute_result"
    }
   ],
   "source": [
    "proportions_ztest([perempuan_selamat, laki_selamat], [total_perempuan, total_laki])"
   ]
  },
  {
   "cell_type": "code",
   "execution_count": 55,
   "id": "2a1b65cc",
   "metadata": {},
   "outputs": [
    {
     "data": {
      "text/plain": [
       "0.18890814558058924"
      ]
     },
     "execution_count": 55,
     "metadata": {},
     "output_type": "execute_result"
    }
   ],
   "source": [
    "proporsi_laki"
   ]
  },
  {
   "cell_type": "code",
   "execution_count": 56,
   "id": "fcb0350d",
   "metadata": {},
   "outputs": [],
   "source": [
    "from statsmodels.stats.proportion import proportions_ztest"
   ]
  },
  {
   "cell_type": "code",
   "execution_count": 57,
   "id": "a3619838",
   "metadata": {},
   "outputs": [],
   "source": [
    "control_revneue_positive = df.loc[(df[\"VARIANT_NAME\"] == \"control\") & (df[\"REVENUE\"] > 0)][\"USER_ID\"].nunique()\n",
    "variant_revneue_positive = df.loc[(df[\"VARIANT_NAME\"] == \"variant\") & (df[\"REVENUE\"] > 0)][\"USER_ID\"].nunique()"
   ]
  },
  {
   "cell_type": "code",
   "execution_count": 58,
   "id": "e8dc1be9",
   "metadata": {},
   "outputs": [
    {
     "data": {
      "text/plain": [
       "VARIANT_NAME\n",
       "control    3931\n",
       "variant    3934\n",
       "Name: USER_ID, dtype: int64"
      ]
     },
     "execution_count": 58,
     "metadata": {},
     "output_type": "execute_result"
    }
   ],
   "source": [
    "df.groupby(\"VARIANT_NAME\")[\"USER_ID\"].nunique()"
   ]
  },
  {
   "cell_type": "code",
   "execution_count": 60,
   "id": "b2d1cf7c",
   "metadata": {},
   "outputs": [],
   "source": [
    "t_stat, p_value = proportions_ztest([control_revneue_positive, variant_revneue_positive], [3931, 3934])"
   ]
  },
  {
   "cell_type": "code",
   "execution_count": 61,
   "id": "76ce6f3f",
   "metadata": {},
   "outputs": [
    {
     "name": "stdout",
     "output_type": "stream",
     "text": [
      "H0 diserahkan\n"
     ]
    }
   ],
   "source": [
    "if p_value < 0.05:\n",
    "  print(\"H0 ditolak\")\n",
    "else:\n",
    "  print(\"H0 diserahkan\")"
   ]
  }
 ],
 "metadata": {
  "kernelspec": {
   "display_name": "base",
   "language": "python",
   "name": "python3"
  },
  "language_info": {
   "codemirror_mode": {
    "name": "ipython",
    "version": 3
   },
   "file_extension": ".py",
   "mimetype": "text/x-python",
   "name": "python",
   "nbconvert_exporter": "python",
   "pygments_lexer": "ipython3",
   "version": "3.12.4"
  }
 },
 "nbformat": 4,
 "nbformat_minor": 5
}
