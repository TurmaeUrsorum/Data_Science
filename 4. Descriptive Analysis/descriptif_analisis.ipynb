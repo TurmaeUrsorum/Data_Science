{
 "cells": [
  {
   "cell_type": "code",
   "execution_count": 1,
   "id": "f6d95161",
   "metadata": {},
   "outputs": [],
   "source": [
    "import numpy as np\n",
    "import pandas as pd\n",
    "import seaborn as sns\n",
    "import matplotlib.pyplot as plt"
   ]
  },
  {
   "cell_type": "code",
   "execution_count": 2,
   "id": "1933ca28",
   "metadata": {},
   "outputs": [],
   "source": [
    "df = sns.load_dataset(\"titanic\")"
   ]
  },
  {
   "cell_type": "code",
   "execution_count": 3,
   "id": "9baac5fa",
   "metadata": {},
   "outputs": [
    {
     "data": {
      "text/html": [
       "<div>\n",
       "<style scoped>\n",
       "    .dataframe tbody tr th:only-of-type {\n",
       "        vertical-align: middle;\n",
       "    }\n",
       "\n",
       "    .dataframe tbody tr th {\n",
       "        vertical-align: top;\n",
       "    }\n",
       "\n",
       "    .dataframe thead th {\n",
       "        text-align: right;\n",
       "    }\n",
       "</style>\n",
       "<table border=\"1\" class=\"dataframe\">\n",
       "  <thead>\n",
       "    <tr style=\"text-align: right;\">\n",
       "      <th></th>\n",
       "      <th>survived</th>\n",
       "      <th>pclass</th>\n",
       "      <th>sex</th>\n",
       "      <th>age</th>\n",
       "      <th>sibsp</th>\n",
       "      <th>parch</th>\n",
       "      <th>fare</th>\n",
       "      <th>embarked</th>\n",
       "      <th>class</th>\n",
       "      <th>who</th>\n",
       "      <th>adult_male</th>\n",
       "      <th>deck</th>\n",
       "      <th>embark_town</th>\n",
       "      <th>alive</th>\n",
       "      <th>alone</th>\n",
       "    </tr>\n",
       "  </thead>\n",
       "  <tbody>\n",
       "    <tr>\n",
       "      <th>0</th>\n",
       "      <td>0</td>\n",
       "      <td>3</td>\n",
       "      <td>male</td>\n",
       "      <td>22.0</td>\n",
       "      <td>1</td>\n",
       "      <td>0</td>\n",
       "      <td>7.2500</td>\n",
       "      <td>S</td>\n",
       "      <td>Third</td>\n",
       "      <td>man</td>\n",
       "      <td>True</td>\n",
       "      <td>NaN</td>\n",
       "      <td>Southampton</td>\n",
       "      <td>no</td>\n",
       "      <td>False</td>\n",
       "    </tr>\n",
       "    <tr>\n",
       "      <th>1</th>\n",
       "      <td>1</td>\n",
       "      <td>1</td>\n",
       "      <td>female</td>\n",
       "      <td>38.0</td>\n",
       "      <td>1</td>\n",
       "      <td>0</td>\n",
       "      <td>71.2833</td>\n",
       "      <td>C</td>\n",
       "      <td>First</td>\n",
       "      <td>woman</td>\n",
       "      <td>False</td>\n",
       "      <td>C</td>\n",
       "      <td>Cherbourg</td>\n",
       "      <td>yes</td>\n",
       "      <td>False</td>\n",
       "    </tr>\n",
       "    <tr>\n",
       "      <th>2</th>\n",
       "      <td>1</td>\n",
       "      <td>3</td>\n",
       "      <td>female</td>\n",
       "      <td>26.0</td>\n",
       "      <td>0</td>\n",
       "      <td>0</td>\n",
       "      <td>7.9250</td>\n",
       "      <td>S</td>\n",
       "      <td>Third</td>\n",
       "      <td>woman</td>\n",
       "      <td>False</td>\n",
       "      <td>NaN</td>\n",
       "      <td>Southampton</td>\n",
       "      <td>yes</td>\n",
       "      <td>True</td>\n",
       "    </tr>\n",
       "    <tr>\n",
       "      <th>3</th>\n",
       "      <td>1</td>\n",
       "      <td>1</td>\n",
       "      <td>female</td>\n",
       "      <td>35.0</td>\n",
       "      <td>1</td>\n",
       "      <td>0</td>\n",
       "      <td>53.1000</td>\n",
       "      <td>S</td>\n",
       "      <td>First</td>\n",
       "      <td>woman</td>\n",
       "      <td>False</td>\n",
       "      <td>C</td>\n",
       "      <td>Southampton</td>\n",
       "      <td>yes</td>\n",
       "      <td>False</td>\n",
       "    </tr>\n",
       "    <tr>\n",
       "      <th>4</th>\n",
       "      <td>0</td>\n",
       "      <td>3</td>\n",
       "      <td>male</td>\n",
       "      <td>35.0</td>\n",
       "      <td>0</td>\n",
       "      <td>0</td>\n",
       "      <td>8.0500</td>\n",
       "      <td>S</td>\n",
       "      <td>Third</td>\n",
       "      <td>man</td>\n",
       "      <td>True</td>\n",
       "      <td>NaN</td>\n",
       "      <td>Southampton</td>\n",
       "      <td>no</td>\n",
       "      <td>True</td>\n",
       "    </tr>\n",
       "  </tbody>\n",
       "</table>\n",
       "</div>"
      ],
      "text/plain": [
       "   survived  pclass     sex   age  sibsp  parch     fare embarked  class  \\\n",
       "0         0       3    male  22.0      1      0   7.2500        S  Third   \n",
       "1         1       1  female  38.0      1      0  71.2833        C  First   \n",
       "2         1       3  female  26.0      0      0   7.9250        S  Third   \n",
       "3         1       1  female  35.0      1      0  53.1000        S  First   \n",
       "4         0       3    male  35.0      0      0   8.0500        S  Third   \n",
       "\n",
       "     who  adult_male deck  embark_town alive  alone  \n",
       "0    man        True  NaN  Southampton    no  False  \n",
       "1  woman       False    C    Cherbourg   yes  False  \n",
       "2  woman       False  NaN  Southampton   yes   True  \n",
       "3  woman       False    C  Southampton   yes  False  \n",
       "4    man        True  NaN  Southampton    no   True  "
      ]
     },
     "execution_count": 3,
     "metadata": {},
     "output_type": "execute_result"
    }
   ],
   "source": [
    "df.head()"
   ]
  },
  {
   "cell_type": "code",
   "execution_count": 4,
   "id": "00b3eacf",
   "metadata": {},
   "outputs": [
    {
     "name": "stdout",
     "output_type": "stream",
     "text": [
      "<class 'pandas.core.frame.DataFrame'>\n",
      "RangeIndex: 891 entries, 0 to 890\n",
      "Data columns (total 15 columns):\n",
      " #   Column       Non-Null Count  Dtype   \n",
      "---  ------       --------------  -----   \n",
      " 0   survived     891 non-null    int64   \n",
      " 1   pclass       891 non-null    int64   \n",
      " 2   sex          891 non-null    object  \n",
      " 3   age          714 non-null    float64 \n",
      " 4   sibsp        891 non-null    int64   \n",
      " 5   parch        891 non-null    int64   \n",
      " 6   fare         891 non-null    float64 \n",
      " 7   embarked     889 non-null    object  \n",
      " 8   class        891 non-null    category\n",
      " 9   who          891 non-null    object  \n",
      " 10  adult_male   891 non-null    bool    \n",
      " 11  deck         203 non-null    category\n",
      " 12  embark_town  889 non-null    object  \n",
      " 13  alive        891 non-null    object  \n",
      " 14  alone        891 non-null    bool    \n",
      "dtypes: bool(2), category(2), float64(2), int64(4), object(5)\n",
      "memory usage: 80.7+ KB\n"
     ]
    }
   ],
   "source": [
    "df.info()"
   ]
  },
  {
   "cell_type": "markdown",
   "id": "f2d8151a",
   "metadata": {},
   "source": [
    "**Data Kategorik**:\n",
    "\n",
    "**Nominal**\n",
    "\n",
    "- Binary\n",
    "  - *sex*\n",
    "  - *survival* -> *alive*\n",
    "  - *adult_male*\n",
    "  - *alone*\n",
    "- Multi\n",
    "  - *embark* -> *embark_town*\n",
    "\n",
    "**Ordinal**\n",
    "\n",
    "- *pclass* -> *class*  \n",
    "\n",
    "**Data Numerik**:\n",
    "- *age*\n",
    "-\t*sibsp*\n",
    "- *parch*\n",
    "\n"
   ]
  },
  {
   "cell_type": "markdown",
   "id": "99ef1d9c",
   "metadata": {},
   "source": [
    "# Tendensi Pemusatan"
   ]
  },
  {
   "cell_type": "markdown",
   "id": "aefe1d5c",
   "metadata": {},
   "source": [
    "## Frecuensi dan proporsi"
   ]
  },
  {
   "cell_type": "code",
   "execution_count": 5,
   "id": "2700d06b",
   "metadata": {},
   "outputs": [
    {
     "data": {
      "text/plain": [
       "embark_town\n",
       "Southampton    644\n",
       "Cherbourg      168\n",
       "Queenstown      77\n",
       "Name: count, dtype: int64"
      ]
     },
     "execution_count": 5,
     "metadata": {},
     "output_type": "execute_result"
    }
   ],
   "source": [
    "df.embark_town.value_counts()"
   ]
  },
  {
   "cell_type": "code",
   "execution_count": 6,
   "id": "7255a043",
   "metadata": {},
   "outputs": [
    {
     "data": {
      "text/plain": [
       "embark_town\n",
       "Southampton    0.724409\n",
       "Cherbourg      0.188976\n",
       "Queenstown     0.086614\n",
       "Name: proportion, dtype: float64"
      ]
     },
     "execution_count": 6,
     "metadata": {},
     "output_type": "execute_result"
    }
   ],
   "source": [
    "df.embark_town.value_counts(normalize=True)"
   ]
  },
  {
   "cell_type": "markdown",
   "id": "55d462d8",
   "metadata": {},
   "source": [
    "## Modus, Median, dan Mean"
   ]
  },
  {
   "cell_type": "code",
   "execution_count": null,
   "id": "a3f417c6",
   "metadata": {},
   "outputs": [
    {
     "name": "stdout",
     "output_type": "stream",
     "text": [
      "Modus  = [8.05] (bisa lebih dari satu nilai atau bimodus)\n",
      "Median = 14.4542\n",
      "Mean   = 32.204207968574636\n"
     ]
    }
   ],
   "source": [
    "#Menghitung modus\n",
    "# column fare\n",
    "modus = df[\"fare\"].mode().values\n",
    "print(f\"Modus  = {modus} (bisa lebih dari satu nilai atau bimodus)\" )\n",
    "\n",
    "#Menghitung median\n",
    "median = df[\"fare\"].median()\n",
    "print(f\"Median = {median}\")\n",
    "\n",
    "#Memghitung mean\n",
    "mean = df[\"fare\"].mean()\n",
    "print(f\"Mean   = {mean}\")"
   ]
  },
  {
   "cell_type": "code",
   "execution_count": 9,
   "id": "f166774c",
   "metadata": {},
   "outputs": [
    {
     "name": "stdout",
     "output_type": "stream",
     "text": [
      "Modus  = [24.] (bisa lebih dari satu nilai atau bimodus)\n",
      "Median = 28.0\n",
      "Mean   = 29.69911764705882\n"
     ]
    }
   ],
   "source": [
    "#Menghitung modus\n",
    "modus = df[\"age\"].mode().values\n",
    "print(f\"Modus  = {modus} (bisa lebih dari satu nilai atau bimodus)\" )\n",
    "\n",
    "#Menghitung median\n",
    "median = df[\"age\"].median()\n",
    "print(f\"Median = {median}\")\n",
    "\n",
    "#Memghitung mean\n",
    "mean = df[\"age\"].mean()\n",
    "print(f\"Mean   = {mean}\")"
   ]
  },
  {
   "cell_type": "markdown",
   "id": "d78f9727",
   "metadata": {},
   "source": [
    "# Tedensi Penyebaran"
   ]
  },
  {
   "cell_type": "markdown",
   "id": "697e61ef",
   "metadata": {},
   "source": [
    "## Variance dan Standard Deviasi"
   ]
  },
  {
   "cell_type": "markdown",
   "id": "f7480f13",
   "metadata": {},
   "source": [
    "### 1. **Varians (Variance)**\n",
    "\n",
    "* Ukuran **penyebaran data** terhadap rata-ratanya.\n",
    "* Rumusnya:\n",
    "\n",
    "$$\n",
    "Var(X) = \\frac{\\sum (x_i - \\bar{x})^2}{n}\n",
    "$$\n",
    "\n",
    "* Jadi varians itu **kuadrat selisih rata-rata**, hasilnya dalam **satuan kuadrat**.\n",
    "  Misal data tinggi badan dalam **cm**, variansnya satuannya jadi **cm²**.\n",
    "\n",
    "---\n",
    "\n",
    "### 2. **Standar Deviasi (Standard Deviation)**\n",
    "\n",
    "* Akar kuadrat dari varians.\n",
    "\n",
    "$$\n",
    "SD(X) = \\sqrt{Var(X)}\n",
    "$$\n",
    "\n",
    "* Fungsinya biar ukuran penyebaran kembali ke **satuan aslinya** (cm, kg, rupiah, dll).\n",
    "* Lebih sering dipakai daripada varians karena lebih gampang diinterpretasi.\n",
    "\n",
    "---\n",
    "\n",
    "### 3. **Perbedaan Utama**\n",
    "\n",
    "| Aspek        | Varians                   | Standar Deviasi                          |\n",
    "| ------------ | ------------------------- | ---------------------------------------- |\n",
    "| Rumus        | Rata-rata kuadrat selisih | Akar kuadrat dari varians                |\n",
    "| Satuan       | Kuadrat dari satuan data  | Sama dengan satuan data asli             |\n",
    "| Interpretasi | Lebih matematis/teknis    | Lebih mudah dipahami dalam konteks nyata |\n",
    "\n",
    "---\n",
    "\n",
    "👉 Contoh:\n",
    "Data tinggi badan: **160, 165, 170**\n",
    "\n",
    "* Rata-rata = 165\n",
    "* Varians = $\\frac{(160-165)^2+(165-165)^2+(170-165)^2}{3} = \\frac{25+0+25}{3} = 16.67$ cm²\n",
    "* Standar deviasi = $\\sqrt{16.67} ≈ 4.08$ cm\n",
    "\n",
    "➡ Jadi **standar deviasi = akar dari varians**.\n",
    "\n",
    "---\n",
    "\n",
    "Mau aku bikinin contoh **visual grafik** biar kelihatan bedanya varians sama standar deviasi?\n"
   ]
  },
  {
   "cell_type": "code",
   "execution_count": 10,
   "id": "b8f593a6",
   "metadata": {},
   "outputs": [
    {
     "name": "stdout",
     "output_type": "stream",
     "text": [
      "Variance  = 2469.436845743117\n",
      "Standard Deviasi = 49.693428597180905\n",
      "True\n"
     ]
    }
   ],
   "source": [
    "#Menghitung var\n",
    "var = df[\"fare\"].var()\n",
    "print(f\"Variance  = {var}\")\n",
    "\n",
    "#Menghitung median\n",
    "std = df[\"fare\"].std()\n",
    "print(f\"Standard Deviasi = {std}\")\n",
    "\n",
    "#Apakah sama?\n",
    "print(np.sqrt(var) == std)"
   ]
  },
  {
   "cell_type": "markdown",
   "id": "00d8d16a",
   "metadata": {},
   "source": [
    "### Statistik Lima Serangkai"
   ]
  },
  {
   "cell_type": "code",
   "execution_count": 11,
   "id": "87ef3baf",
   "metadata": {},
   "outputs": [
    {
     "name": "stdout",
     "output_type": "stream",
     "text": [
      "Nilai minimum   = 0.0\n",
      "Nilai Q1        = 7.9104\n",
      "Nilai Q2        = 14.4542\n",
      "Nilai Q3        = 31.0\n",
      "Nilai maksimum  = 512.3292\n"
     ]
    }
   ],
   "source": [
    "#Menghitung var\n",
    "minimum = df[\"fare\"].min()\n",
    "print(f\"Nilai minimum   = {minimum}\")\n",
    "\n",
    "Q1 = df[\"fare\"].quantile(0.25)\n",
    "print(f\"Nilai Q1        = {Q1}\")\n",
    "\n",
    "Q2 = df[\"fare\"].quantile(0.5)\n",
    "print(f\"Nilai Q2        = {Q2}\")\n",
    "\n",
    "Q3 = df[\"fare\"].quantile(0.75)\n",
    "print(f\"Nilai Q3        = {Q3}\")\n",
    "\n",
    "maksimum = df[\"fare\"].max()\n",
    "print(f\"Nilai maksimum  = {maksimum}\")"
   ]
  },
  {
   "cell_type": "markdown",
   "id": "29b60a57",
   "metadata": {},
   "source": [
    "### Jangkauan, IQR, dan Persentil"
   ]
  },
  {
   "cell_type": "code",
   "execution_count": 12,
   "id": "bfe33131",
   "metadata": {},
   "outputs": [
    {
     "name": "stdout",
     "output_type": "stream",
     "text": [
      "Nilai jangkauan = 512.3292\n",
      "Nilai IQR  = 23.0896\n",
      "False\n",
      "True\n",
      "True\n"
     ]
    }
   ],
   "source": [
    "jangkauan = maksimum - minimum\n",
    "print(f\"Nilai jangkauan = {jangkauan}\")\n",
    "\n",
    "iqr = Q3 - Q1\n",
    "print(f\"Nilai IQR  = {iqr}\")\n",
    "\n",
    "#Persentil 50 = Median\n",
    "print(median == Q2)\n",
    "\n",
    "#Persentil 0 = Minimum dan Persentil 100 = Maksimum\n",
    "print(minimum == df[\"fare\"].quantile(0))\n",
    "print(maksimum == df[\"fare\"].quantile(1))"
   ]
  },
  {
   "cell_type": "markdown",
   "id": "5d68263e",
   "metadata": {},
   "source": [
    "## Outliers, Boxplot, dan Histogram"
   ]
  },
  {
   "cell_type": "markdown",
   "id": "96715300",
   "metadata": {},
   "source": [
    "### Outliers"
   ]
  },
  {
   "cell_type": "code",
   "execution_count": 13,
   "id": "16f85207",
   "metadata": {},
   "outputs": [],
   "source": [
    "batas_bawah = Q1 - 1.5 * iqr\n",
    "batas_atas = Q3 + 1.5 * iqr"
   ]
  },
  {
   "cell_type": "code",
   "execution_count": 14,
   "id": "21e57b91",
   "metadata": {},
   "outputs": [
    {
     "name": "stdout",
     "output_type": "stream",
     "text": [
      "outliers minior < -26.724\n",
      "outliers mayor > 65.6344\n"
     ]
    }
   ],
   "source": [
    "print(f\"outliers minior < {batas_bawah}\")\n",
    "print(f\"outliers mayor > {batas_atas}\")"
   ]
  },
  {
   "cell_type": "markdown",
   "id": "104a601a",
   "metadata": {},
   "source": [
    "## Boxplot"
   ]
  },
  {
   "cell_type": "markdown",
   "id": "986764bf",
   "metadata": {},
   "source": []
  },
  {
   "cell_type": "code",
   "execution_count": 18,
   "id": "c72828eb",
   "metadata": {},
   "outputs": [
    {
     "data": {
      "image/png": "[encoded data removed]",
      "text/plain": [
       "<Figure size 640x480 with 1 Axes>"
      ]
     },
     "metadata": {},
     "output_type": "display_data"
    }
   ],
   "source": [
    "sns.boxplot(data=df[[\"fare\"]])\n",
    "plt.show()"
   ]
  },
  {
   "cell_type": "markdown",
   "id": "85522cc1",
   "metadata": {},
   "source": [
    "## Histogram"
   ]
  },
  {
   "cell_type": "code",
   "execution_count": 21,
   "id": "0025dc0d",
   "metadata": {},
   "outputs": [
    {
     "data": {
      "image/png": "[encoded data removed]",
      "text/plain": [
       "<Figure size 640x480 with 1 Axes>"
      ]
     },
     "metadata": {},
     "output_type": "display_data"
    }
   ],
   "source": [
    "sns.histplot(data=df[[\"fare\"]], kde=True)\n",
    "plt.show()"
   ]
  },
  {
   "cell_type": "code",
   "execution_count": null,
   "id": "8c3903e4",
   "metadata": {},
   "outputs": [
    {
     "data": {
      "image/png": "[encoded data removed]",
      "text/plain": [
       "<Figure size 640x480 with 1 Axes>"
      ]
     },
     "metadata": {},
     "output_type": "display_data"
    }
   ],
   "source": []
  }
 ],
 "metadata": {
  "kernelspec": {
   "display_name": "base",
   "language": "python",
   "name": "python3"
  },
  "language_info": {
   "codemirror_mode": {
    "name": "ipython",
    "version": 3
   },
   "file_extension": ".py",
   "mimetype": "text/x-python",
   "name": "python",
   "nbconvert_exporter": "python",
   "pygments_lexer": "ipython3",
   "version": "3.12.4"
  }
 },
 "nbformat": 4,
 "nbformat_minor": 5
}
