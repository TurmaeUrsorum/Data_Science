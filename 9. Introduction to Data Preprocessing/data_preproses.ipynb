{
 "cells": [
  {
   "cell_type": "markdown",
   "id": "e7ba94eb",
   "metadata": {},
   "source": [
    "# Library"
   ]
  },
  {
   "cell_type": "code",
   "execution_count": 1,
   "id": "26e8339e",
   "metadata": {},
   "outputs": [],
   "source": [
    "import numpy as np\n",
    "import pandas as pd\n",
    "import seaborn as sns\n",
    "import matplotlib.pyplot as plt"
   ]
  },
  {
   "cell_type": "markdown",
   "id": "f04c6b04",
   "metadata": {},
   "source": [
    "## Input Data"
   ]
  },
  {
   "cell_type": "code",
   "execution_count": 2,
   "id": "58ec755a",
   "metadata": {},
   "outputs": [
    {
     "data": {
      "text/html": [
       "<div>\n",
       "<style scoped>\n",
       "    .dataframe tbody tr th:only-of-type {\n",
       "        vertical-align: middle;\n",
       "    }\n",
       "\n",
       "    .dataframe tbody tr th {\n",
       "        vertical-align: top;\n",
       "    }\n",
       "\n",
       "    .dataframe thead th {\n",
       "        text-align: right;\n",
       "    }\n",
       "</style>\n",
       "<table border=\"1\" class=\"dataframe\">\n",
       "  <thead>\n",
       "    <tr style=\"text-align: right;\">\n",
       "      <th></th>\n",
       "      <th>hotel</th>\n",
       "      <th>is_canceled</th>\n",
       "      <th>lead_time</th>\n",
       "      <th>arrival_date_year</th>\n",
       "      <th>arrival_date_month</th>\n",
       "      <th>arrival_date_week_number</th>\n",
       "      <th>arrival_date_day_of_month</th>\n",
       "      <th>stays_in_weekend_nights</th>\n",
       "      <th>stays_in_week_nights</th>\n",
       "      <th>adults</th>\n",
       "      <th>...</th>\n",
       "      <th>deposit_type</th>\n",
       "      <th>agent</th>\n",
       "      <th>company</th>\n",
       "      <th>days_in_waiting_list</th>\n",
       "      <th>customer_type</th>\n",
       "      <th>adr</th>\n",
       "      <th>required_car_parking_spaces</th>\n",
       "      <th>total_of_special_requests</th>\n",
       "      <th>reservation_status</th>\n",
       "      <th>reservation_status_date</th>\n",
       "    </tr>\n",
       "  </thead>\n",
       "  <tbody>\n",
       "    <tr>\n",
       "      <th>0</th>\n",
       "      <td>Resort Hotel</td>\n",
       "      <td>0</td>\n",
       "      <td>342</td>\n",
       "      <td>2015</td>\n",
       "      <td>July</td>\n",
       "      <td>27</td>\n",
       "      <td>1</td>\n",
       "      <td>0</td>\n",
       "      <td>0</td>\n",
       "      <td>2</td>\n",
       "      <td>...</td>\n",
       "      <td>No Deposit</td>\n",
       "      <td>NaN</td>\n",
       "      <td>NaN</td>\n",
       "      <td>0</td>\n",
       "      <td>Transient</td>\n",
       "      <td>0.0</td>\n",
       "      <td>0</td>\n",
       "      <td>0</td>\n",
       "      <td>Check-Out</td>\n",
       "      <td>2015-07-01</td>\n",
       "    </tr>\n",
       "    <tr>\n",
       "      <th>1</th>\n",
       "      <td>Resort Hotel</td>\n",
       "      <td>0</td>\n",
       "      <td>737</td>\n",
       "      <td>2015</td>\n",
       "      <td>July</td>\n",
       "      <td>27</td>\n",
       "      <td>1</td>\n",
       "      <td>0</td>\n",
       "      <td>0</td>\n",
       "      <td>2</td>\n",
       "      <td>...</td>\n",
       "      <td>No Deposit</td>\n",
       "      <td>NaN</td>\n",
       "      <td>NaN</td>\n",
       "      <td>0</td>\n",
       "      <td>Transient</td>\n",
       "      <td>0.0</td>\n",
       "      <td>0</td>\n",
       "      <td>0</td>\n",
       "      <td>Check-Out</td>\n",
       "      <td>2015-07-01</td>\n",
       "    </tr>\n",
       "    <tr>\n",
       "      <th>2</th>\n",
       "      <td>Resort Hotel</td>\n",
       "      <td>0</td>\n",
       "      <td>7</td>\n",
       "      <td>2015</td>\n",
       "      <td>July</td>\n",
       "      <td>27</td>\n",
       "      <td>1</td>\n",
       "      <td>0</td>\n",
       "      <td>1</td>\n",
       "      <td>1</td>\n",
       "      <td>...</td>\n",
       "      <td>No Deposit</td>\n",
       "      <td>NaN</td>\n",
       "      <td>NaN</td>\n",
       "      <td>0</td>\n",
       "      <td>Transient</td>\n",
       "      <td>75.0</td>\n",
       "      <td>0</td>\n",
       "      <td>0</td>\n",
       "      <td>Check-Out</td>\n",
       "      <td>2015-07-02</td>\n",
       "    </tr>\n",
       "    <tr>\n",
       "      <th>3</th>\n",
       "      <td>Resort Hotel</td>\n",
       "      <td>0</td>\n",
       "      <td>13</td>\n",
       "      <td>2015</td>\n",
       "      <td>July</td>\n",
       "      <td>27</td>\n",
       "      <td>1</td>\n",
       "      <td>0</td>\n",
       "      <td>1</td>\n",
       "      <td>1</td>\n",
       "      <td>...</td>\n",
       "      <td>No Deposit</td>\n",
       "      <td>304.0</td>\n",
       "      <td>NaN</td>\n",
       "      <td>0</td>\n",
       "      <td>Transient</td>\n",
       "      <td>75.0</td>\n",
       "      <td>0</td>\n",
       "      <td>0</td>\n",
       "      <td>Check-Out</td>\n",
       "      <td>2015-07-02</td>\n",
       "    </tr>\n",
       "    <tr>\n",
       "      <th>4</th>\n",
       "      <td>Resort Hotel</td>\n",
       "      <td>0</td>\n",
       "      <td>14</td>\n",
       "      <td>2015</td>\n",
       "      <td>July</td>\n",
       "      <td>27</td>\n",
       "      <td>1</td>\n",
       "      <td>0</td>\n",
       "      <td>2</td>\n",
       "      <td>2</td>\n",
       "      <td>...</td>\n",
       "      <td>No Deposit</td>\n",
       "      <td>240.0</td>\n",
       "      <td>NaN</td>\n",
       "      <td>0</td>\n",
       "      <td>Transient</td>\n",
       "      <td>98.0</td>\n",
       "      <td>0</td>\n",
       "      <td>1</td>\n",
       "      <td>Check-Out</td>\n",
       "      <td>2015-07-03</td>\n",
       "    </tr>\n",
       "  </tbody>\n",
       "</table>\n",
       "<p>5 rows × 32 columns</p>\n",
       "</div>"
      ],
      "text/plain": [
       "          hotel  is_canceled  lead_time  arrival_date_year arrival_date_month  \\\n",
       "0  Resort Hotel            0        342               2015               July   \n",
       "1  Resort Hotel            0        737               2015               July   \n",
       "2  Resort Hotel            0          7               2015               July   \n",
       "3  Resort Hotel            0         13               2015               July   \n",
       "4  Resort Hotel            0         14               2015               July   \n",
       "\n",
       "   arrival_date_week_number  arrival_date_day_of_month  \\\n",
       "0                        27                          1   \n",
       "1                        27                          1   \n",
       "2                        27                          1   \n",
       "3                        27                          1   \n",
       "4                        27                          1   \n",
       "\n",
       "   stays_in_weekend_nights  stays_in_week_nights  adults  ...  deposit_type  \\\n",
       "0                        0                     0       2  ...    No Deposit   \n",
       "1                        0                     0       2  ...    No Deposit   \n",
       "2                        0                     1       1  ...    No Deposit   \n",
       "3                        0                     1       1  ...    No Deposit   \n",
       "4                        0                     2       2  ...    No Deposit   \n",
       "\n",
       "   agent company days_in_waiting_list customer_type   adr  \\\n",
       "0    NaN     NaN                    0     Transient   0.0   \n",
       "1    NaN     NaN                    0     Transient   0.0   \n",
       "2    NaN     NaN                    0     Transient  75.0   \n",
       "3  304.0     NaN                    0     Transient  75.0   \n",
       "4  240.0     NaN                    0     Transient  98.0   \n",
       "\n",
       "   required_car_parking_spaces  total_of_special_requests  reservation_status  \\\n",
       "0                            0                          0           Check-Out   \n",
       "1                            0                          0           Check-Out   \n",
       "2                            0                          0           Check-Out   \n",
       "3                            0                          0           Check-Out   \n",
       "4                            0                          1           Check-Out   \n",
       "\n",
       "  reservation_status_date  \n",
       "0              2015-07-01  \n",
       "1              2015-07-01  \n",
       "2              2015-07-02  \n",
       "3              2015-07-02  \n",
       "4              2015-07-03  \n",
       "\n",
       "[5 rows x 32 columns]"
      ]
     },
     "execution_count": 2,
     "metadata": {},
     "output_type": "execute_result"
    }
   ],
   "source": [
    "dataset = pd.read_csv(\"/home/brilly/myskill_or_anything/Data_Science/9. Introduction to Data Preprocessing/hotel_bookings.csv\")\n",
    "dataset.head()"
   ]
  },
  {
   "cell_type": "code",
   "execution_count": 3,
   "id": "72d41fd3",
   "metadata": {},
   "outputs": [
    {
     "name": "stdout",
     "output_type": "stream",
     "text": [
      "<class 'pandas.core.frame.DataFrame'>\n",
      "RangeIndex: 119390 entries, 0 to 119389\n",
      "Data columns (total 32 columns):\n",
      " #   Column                          Non-Null Count   Dtype  \n",
      "---  ------                          --------------   -----  \n",
      " 0   hotel                           119390 non-null  object \n",
      " 1   is_canceled                     119390 non-null  int64  \n",
      " 2   lead_time                       119390 non-null  int64  \n",
      " 3   arrival_date_year               119390 non-null  int64  \n",
      " 4   arrival_date_month              119390 non-null  object \n",
      " 5   arrival_date_week_number        119390 non-null  int64  \n",
      " 6   arrival_date_day_of_month       119390 non-null  int64  \n",
      " 7   stays_in_weekend_nights         119390 non-null  int64  \n",
      " 8   stays_in_week_nights            119390 non-null  int64  \n",
      " 9   adults                          119390 non-null  int64  \n",
      " 10  children                        119386 non-null  float64\n",
      " 11  babies                          119390 non-null  int64  \n",
      " 12  meal                            119390 non-null  object \n",
      " 13  country                         118902 non-null  object \n",
      " 14  market_segment                  119390 non-null  object \n",
      " 15  distribution_channel            119390 non-null  object \n",
      " 16  is_repeated_guest               119390 non-null  int64  \n",
      " 17  previous_cancellations          119390 non-null  int64  \n",
      " 18  previous_bookings_not_canceled  119390 non-null  int64  \n",
      " 19  reserved_room_type              119390 non-null  object \n",
      " 20  assigned_room_type              119390 non-null  object \n",
      " 21  booking_changes                 119390 non-null  int64  \n",
      " 22  deposit_type                    119390 non-null  object \n",
      " 23  agent                           103050 non-null  float64\n",
      " 24  company                         6797 non-null    float64\n",
      " 25  days_in_waiting_list            119390 non-null  int64  \n",
      " 26  customer_type                   119390 non-null  object \n",
      " 27  adr                             119390 non-null  float64\n",
      " 28  required_car_parking_spaces     119390 non-null  int64  \n",
      " 29  total_of_special_requests       119390 non-null  int64  \n",
      " 30  reservation_status              119390 non-null  object \n",
      " 31  reservation_status_date         119390 non-null  object \n",
      "dtypes: float64(4), int64(16), object(12)\n",
      "memory usage: 29.1+ MB\n"
     ]
    }
   ],
   "source": [
    "dataset.info()"
   ]
  },
  {
   "cell_type": "markdown",
   "id": "401830ae",
   "metadata": {},
   "source": [
    "## Memebrsihkan Data"
   ]
  },
  {
   "cell_type": "markdown",
   "id": "53d55202",
   "metadata": {},
   "source": [
    "### Memeriksa nilai hilang\n"
   ]
  },
  {
   "cell_type": "markdown",
   "id": "d62ca281",
   "metadata": {},
   "source": [
    "\n",
    "---\n",
    "\n",
    "### 🔹 Step by step\n",
    "\n",
    "1. **`dataset.isna()`**\n",
    "   → ngecek nilai NaN di dataset → hasilnya DataFrame boolean (`True` kalau NaN, `False` kalau tidak).\n",
    "\n",
    "2. **`.mean()`**\n",
    "   → ngitung rata-rata per kolom.\n",
    "   Karena `True = 1`, `False = 0`, maka ini = **proporsi missing value per kolom**.\n",
    "\n",
    "   Contoh: kalau 30% baris di kolom A itu NaN → hasilnya `0.3`.\n",
    "\n",
    "3. **`.round(3)`**\n",
    "   → ngebulatkan hasilnya ke 3 angka desimal.\n",
    "   Jadi `0.3333` jadi `0.333`.\n",
    "\n",
    "4. **`.mul(100)`**\n",
    "   👉 `mul()` = **multiply** alias perkalian.\n",
    "   Sama aja kayak `* 100`, tapi ini method Pandas Series/DataFrame.\n",
    "   Jadi semua nilai proporsi tadi dikali 100 → jadi persen (%).\n",
    "\n",
    "---\n"
   ]
  },
  {
   "cell_type": "code",
   "execution_count": 4,
   "id": "a7c3fb2f",
   "metadata": {},
   "outputs": [
    {
     "data": {
      "text/plain": [
       "hotel                              0.0\n",
       "is_canceled                        0.0\n",
       "lead_time                          0.0\n",
       "arrival_date_year                  0.0\n",
       "arrival_date_month                 0.0\n",
       "arrival_date_week_number           0.0\n",
       "arrival_date_day_of_month          0.0\n",
       "stays_in_weekend_nights            0.0\n",
       "stays_in_week_nights               0.0\n",
       "adults                             0.0\n",
       "children                           0.0\n",
       "babies                             0.0\n",
       "meal                               0.0\n",
       "country                            0.4\n",
       "market_segment                     0.0\n",
       "distribution_channel               0.0\n",
       "is_repeated_guest                  0.0\n",
       "previous_cancellations             0.0\n",
       "previous_bookings_not_canceled     0.0\n",
       "reserved_room_type                 0.0\n",
       "assigned_room_type                 0.0\n",
       "booking_changes                    0.0\n",
       "deposit_type                       0.0\n",
       "agent                             13.7\n",
       "company                           94.3\n",
       "days_in_waiting_list               0.0\n",
       "customer_type                      0.0\n",
       "adr                                0.0\n",
       "required_car_parking_spaces        0.0\n",
       "total_of_special_requests          0.0\n",
       "reservation_status                 0.0\n",
       "reservation_status_date            0.0\n",
       "dtype: float64"
      ]
     },
     "execution_count": 4,
     "metadata": {},
     "output_type": "execute_result"
    }
   ],
   "source": [
    "#Memeriksa persentase data hilang\n",
    "dataset.isna().mean().round(3).mul(100)"
   ]
  },
  {
   "cell_type": "code",
   "execution_count": 6,
   "id": "6fff78d2",
   "metadata": {},
   "outputs": [
    {
     "data": {
      "text/plain": [
       "dtype('float64')"
      ]
     },
     "execution_count": 6,
     "metadata": {},
     "output_type": "execute_result"
    }
   ],
   "source": [
    "dataset[\"children\"].dtypes"
   ]
  },
  {
   "cell_type": "code",
   "execution_count": 5,
   "id": "e68d54d7",
   "metadata": {},
   "outputs": [
    {
     "data": {
      "text/plain": [
       "4"
      ]
     },
     "execution_count": 5,
     "metadata": {},
     "output_type": "execute_result"
    }
   ],
   "source": [
    "dataset[\"children\"].isna().sum()"
   ]
  },
  {
   "cell_type": "markdown",
   "id": "12ec3d5d",
   "metadata": {},
   "source": [
    "### Mengisi nilai hilang dengan suatu nilai"
   ]
  },
  {
   "cell_type": "code",
   "execution_count": 7,
   "id": "44825d2b",
   "metadata": {},
   "outputs": [],
   "source": [
    "dataset[\"children\"] = dataset[\"children\"].fillna(dataset[\"children\"].median())"
   ]
  },
  {
   "cell_type": "code",
   "execution_count": 8,
   "id": "4bae558c",
   "metadata": {},
   "outputs": [
    {
     "data": {
      "text/plain": [
       "0"
      ]
     },
     "execution_count": 8,
     "metadata": {},
     "output_type": "execute_result"
    }
   ],
   "source": [
    "dataset[\"children\"].isna().sum()"
   ]
  },
  {
   "cell_type": "markdown",
   "id": "09589c02",
   "metadata": {},
   "source": [
    "### Mengubah tipe data kolom children"
   ]
  },
  {
   "cell_type": "code",
   "execution_count": 9,
   "id": "e063409d",
   "metadata": {},
   "outputs": [
    {
     "data": {
      "text/plain": [
       "0    0\n",
       "1    0\n",
       "2    0\n",
       "3    0\n",
       "4    0\n",
       "Name: children, dtype: int64"
      ]
     },
     "execution_count": 9,
     "metadata": {},
     "output_type": "execute_result"
    }
   ],
   "source": [
    "dataset[\"children\"] = dataset[\"children\"].astype(\"int\")\n",
    "dataset[\"children\"].head()"
   ]
  },
  {
   "cell_type": "markdown",
   "id": "9c02f113",
   "metadata": {},
   "source": [
    "### Mengecek dan membuang nilai duplikat"
   ]
  },
  {
   "cell_type": "code",
   "execution_count": 10,
   "id": "cb21d521",
   "metadata": {},
   "outputs": [
    {
     "data": {
      "text/plain": [
       "31994"
      ]
     },
     "execution_count": 10,
     "metadata": {},
     "output_type": "execute_result"
    }
   ],
   "source": [
    "dataset.duplicated().sum()"
   ]
  },
  {
   "cell_type": "code",
   "execution_count": 11,
   "id": "8106e648",
   "metadata": {},
   "outputs": [
    {
     "data": {
      "text/plain": [
       "0"
      ]
     },
     "execution_count": 11,
     "metadata": {},
     "output_type": "execute_result"
    }
   ],
   "source": [
    "dataset1 = dataset.drop_duplicates()\n",
    "dataset1.duplicated().sum()"
   ]
  },
  {
   "cell_type": "markdown",
   "id": "7445a26e",
   "metadata": {},
   "source": [
    "## Transformasi Data"
   ]
  },
  {
   "cell_type": "markdown",
   "id": "c39612f9",
   "metadata": {},
   "source": [
    "### Membuat Kolom Baru"
   ]
  },
  {
   "cell_type": "code",
   "execution_count": 13,
   "id": "fac89f05",
   "metadata": {},
   "outputs": [
    {
     "name": "stderr",
     "output_type": "stream",
     "text": [
      "/tmp/ipykernel_44651/3931536182.py:1: SettingWithCopyWarning: \n",
      "A value is trying to be set on a copy of a slice from a DataFrame.\n",
      "Try using .loc[row_indexer,col_indexer] = value instead\n",
      "\n",
      "See the caveats in the documentation: https://pandas.pydata.org/pandas-docs/stable/user_guide/indexing.html#returning-a-view-versus-a-copy\n",
      "  dataset1[\"total_penghuni\"] = dataset1[\"adults\"] + dataset1[\"babies\"] + dataset1[\"children\"]\n"
     ]
    },
    {
     "data": {
      "text/html": [
       "<div>\n",
       "<style scoped>\n",
       "    .dataframe tbody tr th:only-of-type {\n",
       "        vertical-align: middle;\n",
       "    }\n",
       "\n",
       "    .dataframe tbody tr th {\n",
       "        vertical-align: top;\n",
       "    }\n",
       "\n",
       "    .dataframe thead th {\n",
       "        text-align: right;\n",
       "    }\n",
       "</style>\n",
       "<table border=\"1\" class=\"dataframe\">\n",
       "  <thead>\n",
       "    <tr style=\"text-align: right;\">\n",
       "      <th></th>\n",
       "      <th>hotel</th>\n",
       "      <th>is_canceled</th>\n",
       "      <th>lead_time</th>\n",
       "      <th>arrival_date_year</th>\n",
       "      <th>arrival_date_month</th>\n",
       "      <th>arrival_date_week_number</th>\n",
       "      <th>arrival_date_day_of_month</th>\n",
       "      <th>stays_in_weekend_nights</th>\n",
       "      <th>stays_in_week_nights</th>\n",
       "      <th>adults</th>\n",
       "      <th>...</th>\n",
       "      <th>agent</th>\n",
       "      <th>company</th>\n",
       "      <th>days_in_waiting_list</th>\n",
       "      <th>customer_type</th>\n",
       "      <th>adr</th>\n",
       "      <th>required_car_parking_spaces</th>\n",
       "      <th>total_of_special_requests</th>\n",
       "      <th>reservation_status</th>\n",
       "      <th>reservation_status_date</th>\n",
       "      <th>total_penghuni</th>\n",
       "    </tr>\n",
       "  </thead>\n",
       "  <tbody>\n",
       "    <tr>\n",
       "      <th>0</th>\n",
       "      <td>Resort Hotel</td>\n",
       "      <td>0</td>\n",
       "      <td>342</td>\n",
       "      <td>2015</td>\n",
       "      <td>July</td>\n",
       "      <td>27</td>\n",
       "      <td>1</td>\n",
       "      <td>0</td>\n",
       "      <td>0</td>\n",
       "      <td>2</td>\n",
       "      <td>...</td>\n",
       "      <td>NaN</td>\n",
       "      <td>NaN</td>\n",
       "      <td>0</td>\n",
       "      <td>Transient</td>\n",
       "      <td>0.0</td>\n",
       "      <td>0</td>\n",
       "      <td>0</td>\n",
       "      <td>Check-Out</td>\n",
       "      <td>2015-07-01</td>\n",
       "      <td>2</td>\n",
       "    </tr>\n",
       "    <tr>\n",
       "      <th>1</th>\n",
       "      <td>Resort Hotel</td>\n",
       "      <td>0</td>\n",
       "      <td>737</td>\n",
       "      <td>2015</td>\n",
       "      <td>July</td>\n",
       "      <td>27</td>\n",
       "      <td>1</td>\n",
       "      <td>0</td>\n",
       "      <td>0</td>\n",
       "      <td>2</td>\n",
       "      <td>...</td>\n",
       "      <td>NaN</td>\n",
       "      <td>NaN</td>\n",
       "      <td>0</td>\n",
       "      <td>Transient</td>\n",
       "      <td>0.0</td>\n",
       "      <td>0</td>\n",
       "      <td>0</td>\n",
       "      <td>Check-Out</td>\n",
       "      <td>2015-07-01</td>\n",
       "      <td>2</td>\n",
       "    </tr>\n",
       "    <tr>\n",
       "      <th>2</th>\n",
       "      <td>Resort Hotel</td>\n",
       "      <td>0</td>\n",
       "      <td>7</td>\n",
       "      <td>2015</td>\n",
       "      <td>July</td>\n",
       "      <td>27</td>\n",
       "      <td>1</td>\n",
       "      <td>0</td>\n",
       "      <td>1</td>\n",
       "      <td>1</td>\n",
       "      <td>...</td>\n",
       "      <td>NaN</td>\n",
       "      <td>NaN</td>\n",
       "      <td>0</td>\n",
       "      <td>Transient</td>\n",
       "      <td>75.0</td>\n",
       "      <td>0</td>\n",
       "      <td>0</td>\n",
       "      <td>Check-Out</td>\n",
       "      <td>2015-07-02</td>\n",
       "      <td>1</td>\n",
       "    </tr>\n",
       "    <tr>\n",
       "      <th>3</th>\n",
       "      <td>Resort Hotel</td>\n",
       "      <td>0</td>\n",
       "      <td>13</td>\n",
       "      <td>2015</td>\n",
       "      <td>July</td>\n",
       "      <td>27</td>\n",
       "      <td>1</td>\n",
       "      <td>0</td>\n",
       "      <td>1</td>\n",
       "      <td>1</td>\n",
       "      <td>...</td>\n",
       "      <td>304.0</td>\n",
       "      <td>NaN</td>\n",
       "      <td>0</td>\n",
       "      <td>Transient</td>\n",
       "      <td>75.0</td>\n",
       "      <td>0</td>\n",
       "      <td>0</td>\n",
       "      <td>Check-Out</td>\n",
       "      <td>2015-07-02</td>\n",
       "      <td>1</td>\n",
       "    </tr>\n",
       "    <tr>\n",
       "      <th>4</th>\n",
       "      <td>Resort Hotel</td>\n",
       "      <td>0</td>\n",
       "      <td>14</td>\n",
       "      <td>2015</td>\n",
       "      <td>July</td>\n",
       "      <td>27</td>\n",
       "      <td>1</td>\n",
       "      <td>0</td>\n",
       "      <td>2</td>\n",
       "      <td>2</td>\n",
       "      <td>...</td>\n",
       "      <td>240.0</td>\n",
       "      <td>NaN</td>\n",
       "      <td>0</td>\n",
       "      <td>Transient</td>\n",
       "      <td>98.0</td>\n",
       "      <td>0</td>\n",
       "      <td>1</td>\n",
       "      <td>Check-Out</td>\n",
       "      <td>2015-07-03</td>\n",
       "      <td>2</td>\n",
       "    </tr>\n",
       "  </tbody>\n",
       "</table>\n",
       "<p>5 rows × 33 columns</p>\n",
       "</div>"
      ],
      "text/plain": [
       "          hotel  is_canceled  lead_time  arrival_date_year arrival_date_month  \\\n",
       "0  Resort Hotel            0        342               2015               July   \n",
       "1  Resort Hotel            0        737               2015               July   \n",
       "2  Resort Hotel            0          7               2015               July   \n",
       "3  Resort Hotel            0         13               2015               July   \n",
       "4  Resort Hotel            0         14               2015               July   \n",
       "\n",
       "   arrival_date_week_number  arrival_date_day_of_month  \\\n",
       "0                        27                          1   \n",
       "1                        27                          1   \n",
       "2                        27                          1   \n",
       "3                        27                          1   \n",
       "4                        27                          1   \n",
       "\n",
       "   stays_in_weekend_nights  stays_in_week_nights  adults  ...  agent  company  \\\n",
       "0                        0                     0       2  ...    NaN      NaN   \n",
       "1                        0                     0       2  ...    NaN      NaN   \n",
       "2                        0                     1       1  ...    NaN      NaN   \n",
       "3                        0                     1       1  ...  304.0      NaN   \n",
       "4                        0                     2       2  ...  240.0      NaN   \n",
       "\n",
       "  days_in_waiting_list customer_type   adr required_car_parking_spaces  \\\n",
       "0                    0     Transient   0.0                           0   \n",
       "1                    0     Transient   0.0                           0   \n",
       "2                    0     Transient  75.0                           0   \n",
       "3                    0     Transient  75.0                           0   \n",
       "4                    0     Transient  98.0                           0   \n",
       "\n",
       "   total_of_special_requests  reservation_status  reservation_status_date  \\\n",
       "0                          0           Check-Out               2015-07-01   \n",
       "1                          0           Check-Out               2015-07-01   \n",
       "2                          0           Check-Out               2015-07-02   \n",
       "3                          0           Check-Out               2015-07-02   \n",
       "4                          1           Check-Out               2015-07-03   \n",
       "\n",
       "  total_penghuni  \n",
       "0              2  \n",
       "1              2  \n",
       "2              1  \n",
       "3              1  \n",
       "4              2  \n",
       "\n",
       "[5 rows x 33 columns]"
      ]
     },
     "execution_count": 13,
     "metadata": {},
     "output_type": "execute_result"
    }
   ],
   "source": [
    "dataset1[\"total_penghuni\"] = dataset1[\"adults\"] + dataset1[\"babies\"] + dataset1[\"children\"]\n",
    "dataset1.head()"
   ]
  },
  {
   "cell_type": "code",
   "execution_count": 14,
   "id": "f72bf34b",
   "metadata": {},
   "outputs": [
    {
     "data": {
      "text/plain": [
       "0         2\n",
       "1         2\n",
       "2         1\n",
       "3         1\n",
       "4         2\n",
       "         ..\n",
       "119385    2\n",
       "119386    3\n",
       "119387    2\n",
       "119388    2\n",
       "119389    2\n",
       "Name: total_penghuni, Length: 87396, dtype: int64"
      ]
     },
     "execution_count": 14,
     "metadata": {},
     "output_type": "execute_result"
    }
   ],
   "source": [
    "dataset1[\"total_penghuni\"]"
   ]
  },
  {
   "cell_type": "markdown",
   "id": "4fc7b056",
   "metadata": {},
   "source": [
    "### Melakukan Encode"
   ]
  },
  {
   "cell_type": "code",
   "execution_count": 15,
   "id": "92a692d6",
   "metadata": {},
   "outputs": [
    {
     "data": {
      "text/plain": [
       "array(['Resort Hotel', 'City Hotel'], dtype=object)"
      ]
     },
     "execution_count": 15,
     "metadata": {},
     "output_type": "execute_result"
    }
   ],
   "source": [
    "dataset1[\"hotel\"].unique()"
   ]
  },
  {
   "cell_type": "code",
   "execution_count": 16,
   "id": "c189b57f",
   "metadata": {},
   "outputs": [
    {
     "name": "stderr",
     "output_type": "stream",
     "text": [
      "/tmp/ipykernel_44651/2405278624.py:1: SettingWithCopyWarning: \n",
      "A value is trying to be set on a copy of a slice from a DataFrame.\n",
      "Try using .loc[row_indexer,col_indexer] = value instead\n",
      "\n",
      "See the caveats in the documentation: https://pandas.pydata.org/pandas-docs/stable/user_guide/indexing.html#returning-a-view-versus-a-copy\n",
      "  dataset1[\"is_resort\"] = pd.get_dummies(dataset1[\"hotel\"], drop_first = True)\n"
     ]
    },
    {
     "data": {
      "text/plain": [
       "0    True\n",
       "1    True\n",
       "2    True\n",
       "3    True\n",
       "4    True\n",
       "Name: is_resort, dtype: bool"
      ]
     },
     "execution_count": 16,
     "metadata": {},
     "output_type": "execute_result"
    }
   ],
   "source": [
    "dataset1[\"is_resort\"] = pd.get_dummies(dataset1[\"hotel\"], drop_first = True)\n",
    "dataset1[\"is_resort\"].head()"
   ]
  },
  {
   "cell_type": "markdown",
   "id": "4cbe99a5",
   "metadata": {},
   "source": [
    "### Membuat Kategori Baru (Diskretisasi)"
   ]
  },
  {
   "cell_type": "code",
   "execution_count": 18,
   "id": "76cbf7e6",
   "metadata": {},
   "outputs": [
    {
     "data": {
      "text/plain": [
       "array([342, 737,   7,  13,  14,   0,   9,  85,  75,  23,  35,  68,  18,\n",
       "        37,  12,  72, 127,  78,  48,  60,  77,  99, 118,  95,  96,  69,\n",
       "        45,  40,  15,  36,  43,  70,  16, 107,  47, 113,  90,  50,  93,\n",
       "        76,   3,   1,  10,   5,  17,  51,  71,  63,  62, 101,   2,  81,\n",
       "       368, 364, 324,  79,  21, 109, 102,   4,  98,  92,  26,  73, 115,\n",
       "        86,  52,  29,  30,  33,  32,   8, 100,  44,  80,  97,  64,  39,\n",
       "        34,  27,  82,  94, 110, 111,  84,  66, 104,  28, 258, 112,  65,\n",
       "        67,  55,  88,  54, 292,  83, 105, 280, 394,  24, 103, 366, 249,\n",
       "        22,  91,  11, 108, 106,  31,  87,  41, 304, 117,  59,  53,  58,\n",
       "       116,  42, 321,  38,  56,  49, 317,   6,  57,  19,  25, 315, 123,\n",
       "        46,  89,  61, 312, 299, 130,  74, 298, 119,  20, 286, 136, 129,\n",
       "       124, 327, 131, 460, 140, 114, 139, 122, 137, 126, 120, 128, 135,\n",
       "       150, 143, 151, 132, 125, 157, 147, 138, 156, 164, 346, 159, 160,\n",
       "       161, 333, 381, 149, 154, 297, 163, 314, 155, 323, 340, 356, 142,\n",
       "       328, 144, 336, 248, 302, 175, 344, 382, 146, 170, 166, 338, 167,\n",
       "       310, 148, 165, 172, 171, 145, 121, 178, 305, 173, 152, 354, 347,\n",
       "       158, 185, 349, 183, 352, 177, 200, 192, 361, 207, 174, 330, 134,\n",
       "       350, 334, 283, 153, 197, 133, 241, 193, 235, 194, 261, 260, 216,\n",
       "       169, 209, 238, 215, 141, 189, 187, 223, 284, 214, 202, 211, 168,\n",
       "       230, 203, 188, 232, 709, 219, 162, 196, 190, 259, 228, 176, 250,\n",
       "       201, 186, 199, 180, 206, 205, 224, 222, 182, 210, 275, 212, 229,\n",
       "       218, 208, 191, 181, 179, 246, 255, 226, 288, 253, 252, 262, 236,\n",
       "       256, 234, 254, 468, 213, 237, 198, 195, 239, 263, 265, 274, 217,\n",
       "       220, 307, 221, 233, 257, 227, 276, 225, 264, 311, 277, 204, 290,\n",
       "       266, 270, 294, 319, 282, 251, 322, 291, 269, 240, 271, 184, 231,\n",
       "       268, 247, 273, 300, 301, 267, 244, 306, 293, 309, 272, 242, 295,\n",
       "       285, 243, 308, 398, 303, 245, 424, 279, 331, 281, 339, 434, 357,\n",
       "       325, 329, 278, 332, 343, 345, 360, 348, 367, 353, 373, 374, 406,\n",
       "       400, 326, 379, 399, 316, 341, 320, 385, 355, 363, 358, 296, 422,\n",
       "       390, 335, 370, 376, 375, 397, 289, 542, 403, 383, 384, 359, 393,\n",
       "       337, 362, 365, 435, 386, 378, 313, 351, 287, 471, 462, 411, 450,\n",
       "       318, 372, 371, 454, 532, 445, 389, 388, 407, 443, 437, 451, 391,\n",
       "       405, 412, 419, 420, 426, 433, 440, 429, 418, 447, 461, 605, 457,\n",
       "       475, 464, 482, 626, 489, 496, 503, 510, 517, 524, 531, 538, 545,\n",
       "       552, 559, 566, 573, 580, 587, 594, 601, 608, 615, 622, 629, 396,\n",
       "       410, 395, 423, 408, 409, 448, 465, 387, 414, 476, 479, 467, 490,\n",
       "       493, 478, 504, 507, 458, 518, 521, 377, 444, 380, 463])"
      ]
     },
     "execution_count": 18,
     "metadata": {},
     "output_type": "execute_result"
    }
   ],
   "source": [
    "dataset1[\"lead_time\"].unique()"
   ]
  },
  {
   "cell_type": "code",
   "execution_count": 17,
   "id": "f5c5cb3c",
   "metadata": {},
   "outputs": [
    {
     "name": "stderr",
     "output_type": "stream",
     "text": [
      "/tmp/ipykernel_44651/3465192956.py:10: SettingWithCopyWarning: \n",
      "A value is trying to be set on a copy of a slice from a DataFrame.\n",
      "Try using .loc[row_indexer,col_indexer] = value instead\n",
      "\n",
      "See the caveats in the documentation: https://pandas.pydata.org/pandas-docs/stable/user_guide/indexing.html#returning-a-view-versus-a-copy\n",
      "  dataset1[\"lead_time_category\"] = dataset1[\"lead_time\"].apply(lead_time_category)\n"
     ]
    },
    {
     "data": {
      "text/plain": [
       "0    >3mo\n",
       "1    >3mo\n",
       "2     1mo\n",
       "3     1mo\n",
       "4     1mo\n",
       "Name: lead_time_category, dtype: object"
      ]
     },
     "execution_count": 17,
     "metadata": {},
     "output_type": "execute_result"
    }
   ],
   "source": [
    "def lead_time_category(x):\n",
    "\n",
    "  if x <= 30:\n",
    "    return \"1mo\"\n",
    "  elif x <= 60:\n",
    "    return \"2mo\"\n",
    "  else:\n",
    "    return \">3mo\"\n",
    "\n",
    "dataset1[\"lead_time_category\"] = dataset1[\"lead_time\"].apply(lead_time_category)\n",
    "dataset1[\"lead_time_category\"].head()"
   ]
  },
  {
   "cell_type": "markdown",
   "id": "bec3c77f",
   "metadata": {},
   "source": [
    "### Mengubah kategori"
   ]
  },
  {
   "cell_type": "code",
   "execution_count": 19,
   "id": "4e7a643c",
   "metadata": {},
   "outputs": [
    {
     "name": "stderr",
     "output_type": "stream",
     "text": [
      "/tmp/ipykernel_44651/3393171246.py:1: SettingWithCopyWarning: \n",
      "A value is trying to be set on a copy of a slice from a DataFrame.\n",
      "Try using .loc[row_indexer,col_indexer] = value instead\n",
      "\n",
      "See the caveats in the documentation: https://pandas.pydata.org/pandas-docs/stable/user_guide/indexing.html#returning-a-view-versus-a-copy\n",
      "  dataset1[\"co_status\"] = dataset1[\"reservation_status\"].map({\"Check-Out\" : \"Success\",\n"
     ]
    },
    {
     "data": {
      "text/plain": [
       "0    Success\n",
       "1    Success\n",
       "2    Success\n",
       "3    Success\n",
       "4    Success\n",
       "Name: co_status, dtype: object"
      ]
     },
     "execution_count": 19,
     "metadata": {},
     "output_type": "execute_result"
    }
   ],
   "source": [
    "dataset1[\"co_status\"] = dataset1[\"reservation_status\"].map({\"Check-Out\" : \"Success\",\n",
    "                                    \"Canceled\": \"Not Success\",\n",
    "                                    \"No-Show\" : \"Not Sucess\"})\n",
    "dataset1[\"co_status\"].head()"
   ]
  },
  {
   "cell_type": "markdown",
   "id": "c3ec0144",
   "metadata": {},
   "source": [
    "### Pengubahan skala data"
   ]
  },
  {
   "cell_type": "code",
   "execution_count": 20,
   "id": "30df8113",
   "metadata": {},
   "outputs": [
    {
     "name": "stderr",
     "output_type": "stream",
     "text": [
      "/tmp/ipykernel_44651/2587371366.py:1: SettingWithCopyWarning: \n",
      "A value is trying to be set on a copy of a slice from a DataFrame.\n",
      "Try using .loc[row_indexer,col_indexer] = value instead\n",
      "\n",
      "See the caveats in the documentation: https://pandas.pydata.org/pandas-docs/stable/user_guide/indexing.html#returning-a-view-versus-a-copy\n",
      "  dataset1[\"adr_scaled\"] = dataset1[[\"adr\"]].apply(lambda x: (x - x.max())/ (x.max() - x.min()))\n"
     ]
    },
    {
     "data": {
      "text/plain": [
       "0   -0.998820\n",
       "1   -0.998820\n",
       "2   -0.984947\n",
       "3   -0.984947\n",
       "4   -0.980693\n",
       "Name: adr_scaled, dtype: float64"
      ]
     },
     "execution_count": 20,
     "metadata": {},
     "output_type": "execute_result"
    }
   ],
   "source": [
    "dataset1[\"adr_scaled\"] = dataset1[[\"adr\"]].apply(lambda x: (x - x.max())/ (x.max() - x.min()))\n",
    "dataset1[\"adr_scaled\"].head()"
   ]
  },
  {
   "cell_type": "markdown",
   "id": "744f07b9",
   "metadata": {},
   "source": [
    "### Aggregasi Data"
   ]
  },
  {
   "cell_type": "code",
   "execution_count": 23,
   "id": "d253f257",
   "metadata": {},
   "outputs": [
    {
     "name": "stdout",
     "output_type": "stream",
     "text": [
      "grouby by country and mean\n"
     ]
    },
    {
     "data": {
      "text/html": [
       "<div>\n",
       "<style scoped>\n",
       "    .dataframe tbody tr th:only-of-type {\n",
       "        vertical-align: middle;\n",
       "    }\n",
       "\n",
       "    .dataframe tbody tr th {\n",
       "        vertical-align: top;\n",
       "    }\n",
       "\n",
       "    .dataframe thead th {\n",
       "        text-align: right;\n",
       "    }\n",
       "</style>\n",
       "<table border=\"1\" class=\"dataframe\">\n",
       "  <thead>\n",
       "    <tr style=\"text-align: right;\">\n",
       "      <th></th>\n",
       "      <th>lead_time</th>\n",
       "      <th>total_penghuni</th>\n",
       "      <th>adr</th>\n",
       "    </tr>\n",
       "    <tr>\n",
       "      <th>country</th>\n",
       "      <th></th>\n",
       "      <th></th>\n",
       "      <th></th>\n",
       "    </tr>\n",
       "  </thead>\n",
       "  <tbody>\n",
       "    <tr>\n",
       "      <th>ABW</th>\n",
       "      <td>126.000000</td>\n",
       "      <td>2.500000</td>\n",
       "      <td>128.340000</td>\n",
       "    </tr>\n",
       "    <tr>\n",
       "      <th>AGO</th>\n",
       "      <td>23.897661</td>\n",
       "      <td>1.836257</td>\n",
       "      <td>117.970029</td>\n",
       "    </tr>\n",
       "    <tr>\n",
       "      <th>AIA</th>\n",
       "      <td>0.000000</td>\n",
       "      <td>4.000000</td>\n",
       "      <td>265.000000</td>\n",
       "    </tr>\n",
       "    <tr>\n",
       "      <th>ALB</th>\n",
       "      <td>93.272727</td>\n",
       "      <td>1.909091</td>\n",
       "      <td>85.203636</td>\n",
       "    </tr>\n",
       "    <tr>\n",
       "      <th>AND</th>\n",
       "      <td>47.000000</td>\n",
       "      <td>2.714286</td>\n",
       "      <td>202.652857</td>\n",
       "    </tr>\n",
       "  </tbody>\n",
       "</table>\n",
       "</div>"
      ],
      "text/plain": [
       "          lead_time  total_penghuni         adr\n",
       "country                                        \n",
       "ABW      126.000000        2.500000  128.340000\n",
       "AGO       23.897661        1.836257  117.970029\n",
       "AIA        0.000000        4.000000  265.000000\n",
       "ALB       93.272727        1.909091   85.203636\n",
       "AND       47.000000        2.714286  202.652857"
      ]
     },
     "execution_count": 23,
     "metadata": {},
     "output_type": "execute_result"
    }
   ],
   "source": [
    "cols = [\"lead_time\", \"total_penghuni\", \"adr\"]\n",
    "by_country = dataset1.groupby(\"country\")[cols].mean()\n",
    "print(\"grouby by country and mean\")\n",
    "by_country.head()"
   ]
  },
  {
   "cell_type": "markdown",
   "id": "cab66818",
   "metadata": {},
   "source": [
    "### Pivot"
   ]
  },
  {
   "cell_type": "code",
   "execution_count": 24,
   "id": "796d64cf",
   "metadata": {},
   "outputs": [
    {
     "data": {
      "text/html": [
       "<div>\n",
       "<style scoped>\n",
       "    .dataframe tbody tr th:only-of-type {\n",
       "        vertical-align: middle;\n",
       "    }\n",
       "\n",
       "    .dataframe tbody tr th {\n",
       "        vertical-align: top;\n",
       "    }\n",
       "\n",
       "    .dataframe thead th {\n",
       "        text-align: right;\n",
       "    }\n",
       "</style>\n",
       "<table border=\"1\" class=\"dataframe\">\n",
       "  <thead>\n",
       "    <tr style=\"text-align: right;\">\n",
       "      <th>hotel</th>\n",
       "      <th>City Hotel</th>\n",
       "      <th>Resort Hotel</th>\n",
       "    </tr>\n",
       "    <tr>\n",
       "      <th>reservation_status</th>\n",
       "      <th></th>\n",
       "      <th></th>\n",
       "    </tr>\n",
       "  </thead>\n",
       "  <tbody>\n",
       "    <tr>\n",
       "      <th>Canceled</th>\n",
       "      <td>104.133325</td>\n",
       "      <td>115.775616</td>\n",
       "    </tr>\n",
       "    <tr>\n",
       "      <th>Check-Out</th>\n",
       "      <td>67.387999</td>\n",
       "      <td>73.999115</td>\n",
       "    </tr>\n",
       "    <tr>\n",
       "      <th>No-Show</th>\n",
       "      <td>50.759358</td>\n",
       "      <td>60.011278</td>\n",
       "    </tr>\n",
       "  </tbody>\n",
       "</table>\n",
       "</div>"
      ],
      "text/plain": [
       "hotel               City Hotel  Resort Hotel\n",
       "reservation_status                          \n",
       "Canceled            104.133325    115.775616\n",
       "Check-Out            67.387999     73.999115\n",
       "No-Show              50.759358     60.011278"
      ]
     },
     "execution_count": 24,
     "metadata": {},
     "output_type": "execute_result"
    }
   ],
   "source": [
    "pivot_lead_time = dataset1.pivot_table(index = \"reservation_status\",\n",
    "                     columns = \"hotel\",\n",
    "                     values = \"lead_time\",\n",
    "                     aggfunc = \"mean\")\n",
    "pivot_lead_time.head()"
   ]
  },
  {
   "cell_type": "markdown",
   "id": "27f3a5a8",
   "metadata": {},
   "source": [
    "### Melt"
   ]
  },
  {
   "cell_type": "code",
   "execution_count": 25,
   "id": "57e5fcbc",
   "metadata": {},
   "outputs": [
    {
     "data": {
      "text/html": [
       "<div>\n",
       "<style scoped>\n",
       "    .dataframe tbody tr th:only-of-type {\n",
       "        vertical-align: middle;\n",
       "    }\n",
       "\n",
       "    .dataframe tbody tr th {\n",
       "        vertical-align: top;\n",
       "    }\n",
       "\n",
       "    .dataframe thead th {\n",
       "        text-align: right;\n",
       "    }\n",
       "</style>\n",
       "<table border=\"1\" class=\"dataframe\">\n",
       "  <thead>\n",
       "    <tr style=\"text-align: right;\">\n",
       "      <th></th>\n",
       "      <th>hotel</th>\n",
       "      <th>value</th>\n",
       "    </tr>\n",
       "  </thead>\n",
       "  <tbody>\n",
       "    <tr>\n",
       "      <th>0</th>\n",
       "      <td>City Hotel</td>\n",
       "      <td>104.133325</td>\n",
       "    </tr>\n",
       "    <tr>\n",
       "      <th>1</th>\n",
       "      <td>City Hotel</td>\n",
       "      <td>67.387999</td>\n",
       "    </tr>\n",
       "    <tr>\n",
       "      <th>2</th>\n",
       "      <td>City Hotel</td>\n",
       "      <td>50.759358</td>\n",
       "    </tr>\n",
       "    <tr>\n",
       "      <th>3</th>\n",
       "      <td>Resort Hotel</td>\n",
       "      <td>115.775616</td>\n",
       "    </tr>\n",
       "    <tr>\n",
       "      <th>4</th>\n",
       "      <td>Resort Hotel</td>\n",
       "      <td>73.999115</td>\n",
       "    </tr>\n",
       "    <tr>\n",
       "      <th>5</th>\n",
       "      <td>Resort Hotel</td>\n",
       "      <td>60.011278</td>\n",
       "    </tr>\n",
       "  </tbody>\n",
       "</table>\n",
       "</div>"
      ],
      "text/plain": [
       "          hotel       value\n",
       "0    City Hotel  104.133325\n",
       "1    City Hotel   67.387999\n",
       "2    City Hotel   50.759358\n",
       "3  Resort Hotel  115.775616\n",
       "4  Resort Hotel   73.999115\n",
       "5  Resort Hotel   60.011278"
      ]
     },
     "execution_count": 25,
     "metadata": {},
     "output_type": "execute_result"
    }
   ],
   "source": [
    "pivot_lead_time.melt()"
   ]
  }
 ],
 "metadata": {
  "kernelspec": {
   "display_name": "base",
   "language": "python",
   "name": "python3"
  },
  "language_info": {
   "codemirror_mode": {
    "name": "ipython",
    "version": 3
   },
   "file_extension": ".py",
   "mimetype": "text/x-python",
   "name": "python",
   "nbconvert_exporter": "python",
   "pygments_lexer": "ipython3",
   "version": "3.12.4"
  }
 },
 "nbformat": 4,
 "nbformat_minor": 5
}
